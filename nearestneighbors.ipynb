{
  "nbformat": 4,
  "nbformat_minor": 0,
  "metadata": {
    "kernelspec": {
      "display_name": "Python 3",
      "language": "python",
      "name": "python3"
    },
    "language_info": {
      "codemirror_mode": {
        "name": "ipython",
        "version": 3
      },
      "file_extension": ".py",
      "mimetype": "text/x-python",
      "name": "python",
      "nbconvert_exporter": "python",
      "pygments_lexer": "ipython3",
      "version": "3.6.7"
    },
    "colab": {
      "name": "hw1-naive-bayes.ipynb",
      "provenance": [],
      "collapsed_sections": []
    }
  },
  "cells": [
    {
      "cell_type": "markdown",
      "metadata": {
        "id": "rVc692cTWmeb",
        "colab_type": "text"
      },
      "source": [
        "You can do this homework online through [Google Colab](https://colab.research.google.com/). By linking Colab to Github, you can import this file to colab, and save your changes back to Github directly.\n"
      ]
    },
    {
      "cell_type": "markdown",
      "metadata": {
        "id": "3kMl81pn0_3N",
        "colab_type": "text"
      },
      "source": [
        "# Homework 1: Naive Bayes Classifier\n",
        "\n",
        "\n",
        "In this homework you will implement the Naive Bayes Classsifier on a data set of votes in the U.S. House of Representatives, with the goal of predicting the party affiliation of each congressman. The input data $X$ is given by a $N$-by-$D$ matrix, where $N$ is the number of examples and $D=16$ is the number of input features. Each feature is binary (yes/no). The targets are given by a length-$N$ sequence of classes, $Y$, that are also binary. More information on the data set can be found at  https://archive.ics.uci.edu/ml/datasets/Congressional+Voting+Records.\n"
      ]
    },
    {
      "cell_type": "markdown",
      "metadata": {
        "id": "7JXBHBH70_3P",
        "colab_type": "text"
      },
      "source": [
        "\n",
        "First, we need to download the data. The following code uses the urllib library to request data from a website. The pandas library is a powerful library for data analysis --- we use the read_csv method to automatically parse the comma seperated variable (csv) file."
      ]
    },
    {
      "cell_type": "code",
      "metadata": {
        "id": "kc-pnkGp0_3T",
        "colab_type": "code",
        "outputId": "05ea1994-261f-480f-ce3a-c07ac54a91e7",
        "colab": {
          "base_uri": "https://localhost:8080/",
          "height": 240
        }
      },
      "source": [
        "import pandas \n",
        "import urllib.request  \n",
        "import numpy   # Numerical python.\n",
        "\n",
        "# Download the data.\n",
        "url = \"https://archive.ics.uci.edu/ml/machine-learning-databases/voting-records/house-votes-84.data\"\n",
        "response = urllib.request.urlopen(url)\n",
        "\n",
        "# Interpret text data into pandas data frame. Interpret 'abstain' votes as 'no'.\n",
        "dataset  = pandas.read_csv(response, header=None, true_values=['y'], false_values=['n','?'])\n",
        "\n",
        "# Set the column names.\n",
        "names = ['label'] + [f'vote_{i}' for i in range(16)]\n",
        "dataset.columns = names\n",
        "\n",
        "# Tells pandas that this is a categorical feature.\n",
        "dataset['label'] = pandas.Categorical(dataset['label'])\n",
        "\n",
        "print(\"Dataset shape: \", dataset.shape)\n",
        "dataset.head() # Prints first 5 examples from the data set."
      ],
      "execution_count": 33,
      "outputs": [
        {
          "output_type": "stream",
          "text": [
            "Dataset shape:  (435, 17)\n"
          ],
          "name": "stdout"
        },
        {
          "output_type": "execute_result",
          "data": {
            "text/html": [
              "<div>\n",
              "<style scoped>\n",
              "    .dataframe tbody tr th:only-of-type {\n",
              "        vertical-align: middle;\n",
              "    }\n",
              "\n",
              "    .dataframe tbody tr th {\n",
              "        vertical-align: top;\n",
              "    }\n",
              "\n",
              "    .dataframe thead th {\n",
              "        text-align: right;\n",
              "    }\n",
              "</style>\n",
              "<table border=\"1\" class=\"dataframe\">\n",
              "  <thead>\n",
              "    <tr style=\"text-align: right;\">\n",
              "      <th></th>\n",
              "      <th>label</th>\n",
              "      <th>vote_0</th>\n",
              "      <th>vote_1</th>\n",
              "      <th>vote_2</th>\n",
              "      <th>vote_3</th>\n",
              "      <th>vote_4</th>\n",
              "      <th>vote_5</th>\n",
              "      <th>vote_6</th>\n",
              "      <th>vote_7</th>\n",
              "      <th>vote_8</th>\n",
              "      <th>vote_9</th>\n",
              "      <th>vote_10</th>\n",
              "      <th>vote_11</th>\n",
              "      <th>vote_12</th>\n",
              "      <th>vote_13</th>\n",
              "      <th>vote_14</th>\n",
              "      <th>vote_15</th>\n",
              "    </tr>\n",
              "  </thead>\n",
              "  <tbody>\n",
              "    <tr>\n",
              "      <th>0</th>\n",
              "      <td>republican</td>\n",
              "      <td>False</td>\n",
              "      <td>True</td>\n",
              "      <td>False</td>\n",
              "      <td>True</td>\n",
              "      <td>True</td>\n",
              "      <td>True</td>\n",
              "      <td>False</td>\n",
              "      <td>False</td>\n",
              "      <td>False</td>\n",
              "      <td>True</td>\n",
              "      <td>False</td>\n",
              "      <td>True</td>\n",
              "      <td>True</td>\n",
              "      <td>True</td>\n",
              "      <td>False</td>\n",
              "      <td>True</td>\n",
              "    </tr>\n",
              "    <tr>\n",
              "      <th>1</th>\n",
              "      <td>republican</td>\n",
              "      <td>False</td>\n",
              "      <td>True</td>\n",
              "      <td>False</td>\n",
              "      <td>True</td>\n",
              "      <td>True</td>\n",
              "      <td>True</td>\n",
              "      <td>False</td>\n",
              "      <td>False</td>\n",
              "      <td>False</td>\n",
              "      <td>False</td>\n",
              "      <td>False</td>\n",
              "      <td>True</td>\n",
              "      <td>True</td>\n",
              "      <td>True</td>\n",
              "      <td>False</td>\n",
              "      <td>False</td>\n",
              "    </tr>\n",
              "    <tr>\n",
              "      <th>2</th>\n",
              "      <td>democrat</td>\n",
              "      <td>False</td>\n",
              "      <td>True</td>\n",
              "      <td>True</td>\n",
              "      <td>False</td>\n",
              "      <td>True</td>\n",
              "      <td>True</td>\n",
              "      <td>False</td>\n",
              "      <td>False</td>\n",
              "      <td>False</td>\n",
              "      <td>False</td>\n",
              "      <td>True</td>\n",
              "      <td>False</td>\n",
              "      <td>True</td>\n",
              "      <td>True</td>\n",
              "      <td>False</td>\n",
              "      <td>False</td>\n",
              "    </tr>\n",
              "    <tr>\n",
              "      <th>3</th>\n",
              "      <td>democrat</td>\n",
              "      <td>False</td>\n",
              "      <td>True</td>\n",
              "      <td>True</td>\n",
              "      <td>False</td>\n",
              "      <td>False</td>\n",
              "      <td>True</td>\n",
              "      <td>False</td>\n",
              "      <td>False</td>\n",
              "      <td>False</td>\n",
              "      <td>False</td>\n",
              "      <td>True</td>\n",
              "      <td>False</td>\n",
              "      <td>True</td>\n",
              "      <td>False</td>\n",
              "      <td>False</td>\n",
              "      <td>True</td>\n",
              "    </tr>\n",
              "    <tr>\n",
              "      <th>4</th>\n",
              "      <td>democrat</td>\n",
              "      <td>True</td>\n",
              "      <td>True</td>\n",
              "      <td>True</td>\n",
              "      <td>False</td>\n",
              "      <td>True</td>\n",
              "      <td>True</td>\n",
              "      <td>False</td>\n",
              "      <td>False</td>\n",
              "      <td>False</td>\n",
              "      <td>False</td>\n",
              "      <td>True</td>\n",
              "      <td>False</td>\n",
              "      <td>True</td>\n",
              "      <td>True</td>\n",
              "      <td>True</td>\n",
              "      <td>True</td>\n",
              "    </tr>\n",
              "  </tbody>\n",
              "</table>\n",
              "</div>"
            ],
            "text/plain": [
              "        label  vote_0  vote_1  vote_2  ...  vote_12  vote_13  vote_14  vote_15\n",
              "0  republican   False    True   False  ...     True     True    False     True\n",
              "1  republican   False    True   False  ...     True     True    False    False\n",
              "2    democrat   False    True    True  ...     True     True    False    False\n",
              "3    democrat   False    True    True  ...     True    False    False     True\n",
              "4    democrat    True    True    True  ...     True     True     True     True\n",
              "\n",
              "[5 rows x 17 columns]"
            ]
          },
          "metadata": {
            "tags": []
          },
          "execution_count": 33
        }
      ]
    },
    {
      "cell_type": "markdown",
      "metadata": {
        "id": "ks-snVmYvSW2",
        "colab_type": "text"
      },
      "source": [
        "Numpy is a powerful library for mathematical operations on vectors and matrices. Here we convert the pandas data into a 2-dimensional numpy array (a matrix). "
      ]
    },
    {
      "cell_type": "code",
      "metadata": {
        "id": "OJjff58Uu4kw",
        "colab_type": "code",
        "outputId": "cc7e834e-d616-486b-ebd1-6c94d9ba1c81",
        "colab": {
          "base_uri": "https://localhost:8080/",
          "height": 34
        }
      },
      "source": [
        "X = numpy.array(dataset.iloc[:,1:]) # Convert input features into Numpy array.\n",
        "Y = dataset['label'].cat.codes # Converts string labels to binary values.\n",
        "\n",
        "# Split data into train and test set. Use the first 335 examples for training.\n",
        "num_train = 335\n",
        "Xtrain = X[0:num_train, :].astype('float32')\n",
        "Ytrain = Y[0:num_train].astype('f')\n",
        "Xtest  = X[num_train:,:].astype('f')\n",
        "Ytest  = Y[num_train:].astype('f')\n",
        "print(Xtrain.shape, Xtest.shape)"
      ],
      "execution_count": 55,
      "outputs": [
        {
          "output_type": "stream",
          "text": [
            "(335, 16) (100, 16)\n"
          ],
          "name": "stdout"
        }
      ]
    },
    {
      "cell_type": "code",
      "metadata": {
        "id": "7UWwOMogRiPJ",
        "colab_type": "code",
        "colab": {}
      },
      "source": [
        "import numpy as np\n",
        "\n",
        "def get_distance(q, X):\n",
        "  # Distance between query q and every point in data matrix X.\n",
        "  N, D = X.shape\n",
        "  assert(len(q) == D)\n",
        "  rval = np.zeros((N,))\n",
        "  for i in range(N):\n",
        "    distance = np.sqrt(np.sum((q - X[i,:])**2))\n",
        "    rval[i] = distance\n",
        "  return rval\n",
        "\n",
        "def get_distance_vectorized(q, X):\n",
        "  return np.sqrt(np.sum((q - X)**2, axis=1))\n",
        "  "
      ],
      "execution_count": 0,
      "outputs": []
    },
    {
      "cell_type": "code",
      "metadata": {
        "id": "yN5CSdxLXZsr",
        "colab_type": "code",
        "colab": {
          "base_uri": "https://localhost:8080/",
          "height": 34
        },
        "outputId": "2c0af602-3ba3-49a1-e356-422c5b7f8833"
      },
      "source": [
        "def classify(q, Xtrain, Ytrain):\n",
        "  # \n",
        "  distances = get_distance_vectorized(q, Xtrain)\n",
        "  min_idx = np.argmin(distances)\n",
        "  # This is the minimum value: distances[min_idx]\n",
        "  #min_indices = np.argpartition(distances, 3) # Get 3 closest training points.\n",
        "  #min_idx = min_indices[0]\n",
        "  return Ytrain[min_idx]\n",
        "\n",
        "preds = np.zeros((100,))\n",
        "for i,q in enumerate(Xtest):\n",
        "  preds[i] = classify(q, Xtrain, Ytrain)\n",
        "print(\"Accuracy is:%0.2f\" % (np.sum(preds == Ytest)/len(Ytest)))"
      ],
      "execution_count": 85,
      "outputs": [
        {
          "output_type": "stream",
          "text": [
            "Accuracy is:0.88\n"
          ],
          "name": "stdout"
        }
      ]
    },
    {
      "cell_type": "code",
      "metadata": {
        "id": "6GN9XMKiaOAD",
        "colab_type": "code",
        "colab": {
          "base_uri": "https://localhost:8080/",
          "height": 34
        },
        "outputId": "61edda0a-7cce-44f0-8324-cd84b612e4fa"
      },
      "source": [
        "# Importing all methods from a module.\n",
        "from numpy import *\n",
        "\n",
        "# Default arguments.\n",
        "def myfun(a,b=2):\n",
        "  return a,b\n",
        "c,d = myfun(1)\n",
        "print(c,d)"
      ],
      "execution_count": 86,
      "outputs": [
        {
          "output_type": "stream",
          "text": [
            "1 2\n"
          ],
          "name": "stdout"
        }
      ]
    },
    {
      "cell_type": "code",
      "metadata": {
        "id": "aiuBW3CHauZ-",
        "colab_type": "code",
        "colab": {
          "base_uri": "https://localhost:8080/",
          "height": 282
        },
        "outputId": "52788dd3-83ec-4a36-8549-33bc767e78a2"
      },
      "source": [
        "# Plotting is done with matplotlib.\n",
        "import matplotlib.pyplot as plt\n",
        "\n",
        "plt.plot([1,2,3], [4,5,7])"
      ],
      "execution_count": 87,
      "outputs": [
        {
          "output_type": "execute_result",
          "data": {
            "text/plain": [
              "[<matplotlib.lines.Line2D at 0x7f7a7c4c7390>]"
            ]
          },
          "metadata": {
            "tags": []
          },
          "execution_count": 87
        },
        {
          "output_type": "display_data",
          "data": {
            "image/png": "[encoded data removed]",
            "text/plain": [
              "<Figure size 432x288 with 1 Axes>"
            ]
          },
          "metadata": {
            "tags": []
          }
        }
      ]
    }
  ]
}